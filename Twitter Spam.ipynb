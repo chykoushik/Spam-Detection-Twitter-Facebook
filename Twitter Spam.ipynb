{
 "cells": [
  {
   "cell_type": "code",
   "execution_count": 282,
   "metadata": {},
   "outputs": [],
   "source": [
    "#import libraries\n",
    "import numpy as np\n",
    "import pandas as pd\n",
    "from sklearn.model_selection import train_test_split\n",
    "from sklearn.feature_extraction.text import CountVectorizer\n",
    "from itertools import islice\n",
    "from sklearn.linear_model import LogisticRegression\n",
    "from sklearn.metrics import classification_report, confusion_matrix \n",
    "from sklearn.metrics import average_precision_score\n",
    "from sklearn.metrics import confusion_matrix,accuracy_score, roc_curve, auc\n",
    "from sklearn.ensemble import GradientBoostingClassifier\n",
    "from sklearn.ensemble import RandomForestClassifier\n",
    "from sklearn.svm import SVC\n",
    "from sklearn.preprocessing import MaxAbsScaler\n",
    "from sklearn.neighbors import KNeighborsClassifier\n",
    "from matplotlib import pyplot as plt\n",
    "from keras.datasets import imdb\n",
    "from keras.preprocessing.text import Tokenizer\n",
    "from keras import models\n",
    "from keras import layers\n",
    "\n",
    "# Set random seed\n",
    "np.random.seed(0)"
   ]
  },
  {
   "cell_type": "code",
   "execution_count": 283,
   "metadata": {},
   "outputs": [
    {
     "data": {
      "text/plain": [
       "Index(['Id', 'Tweet', 'following', 'followers', 'actions', 'is_retweet',\n",
       "       'location', 'Type'],\n",
       "      dtype='object')"
      ]
     },
     "execution_count": 283,
     "metadata": {},
     "output_type": "execute_result"
    }
   ],
   "source": [
    "data = pd.read_csv(\"train.csv\") #load training data\n",
    "data.columns"
   ]
  },
  {
   "cell_type": "code",
   "execution_count": 284,
   "metadata": {},
   "outputs": [
    {
     "data": {
      "text/html": [
       "<div>\n",
       "<style scoped>\n",
       "    .dataframe tbody tr th:only-of-type {\n",
       "        vertical-align: middle;\n",
       "    }\n",
       "\n",
       "    .dataframe tbody tr th {\n",
       "        vertical-align: top;\n",
       "    }\n",
       "\n",
       "    .dataframe thead th {\n",
       "        text-align: right;\n",
       "    }\n",
       "</style>\n",
       "<table border=\"1\" class=\"dataframe\">\n",
       "  <thead>\n",
       "    <tr style=\"text-align: right;\">\n",
       "      <th></th>\n",
       "      <th>Id</th>\n",
       "      <th>Tweet</th>\n",
       "      <th>following</th>\n",
       "      <th>followers</th>\n",
       "      <th>actions</th>\n",
       "      <th>is_retweet</th>\n",
       "      <th>location</th>\n",
       "      <th>Type</th>\n",
       "    </tr>\n",
       "  </thead>\n",
       "  <tbody>\n",
       "    <tr>\n",
       "      <th>0</th>\n",
       "      <td>10091</td>\n",
       "      <td>It's the everything else that's complicated. #...</td>\n",
       "      <td>0.0</td>\n",
       "      <td>11500.0</td>\n",
       "      <td>NaN</td>\n",
       "      <td>0.0</td>\n",
       "      <td>Chicago</td>\n",
       "      <td>Quality</td>\n",
       "    </tr>\n",
       "    <tr>\n",
       "      <th>1</th>\n",
       "      <td>10172</td>\n",
       "      <td>Eren sent a glare towards Mikasa then nodded a...</td>\n",
       "      <td>0.0</td>\n",
       "      <td>0.0</td>\n",
       "      <td>NaN</td>\n",
       "      <td>0.0</td>\n",
       "      <td>NaN</td>\n",
       "      <td>Quality</td>\n",
       "    </tr>\n",
       "    <tr>\n",
       "      <th>2</th>\n",
       "      <td>7012</td>\n",
       "      <td>I posted a new photo to Facebook http://fb.me/...</td>\n",
       "      <td>0.0</td>\n",
       "      <td>0.0</td>\n",
       "      <td>NaN</td>\n",
       "      <td>0.0</td>\n",
       "      <td>Scotland, U.K</td>\n",
       "      <td>Quality</td>\n",
       "    </tr>\n",
       "    <tr>\n",
       "      <th>3</th>\n",
       "      <td>3697</td>\n",
       "      <td>#jan Idiot Chelsea Handler Diagnoses Trump Wit...</td>\n",
       "      <td>3319.0</td>\n",
       "      <td>611.0</td>\n",
       "      <td>294.0</td>\n",
       "      <td>0.0</td>\n",
       "      <td>FBBIGBANG&amp;2NE1TH</td>\n",
       "      <td>Spam</td>\n",
       "    </tr>\n",
       "    <tr>\n",
       "      <th>4</th>\n",
       "      <td>10740</td>\n",
       "      <td>Pedophile Anthony Weiner is TERRIFIED of Getti...</td>\n",
       "      <td>4840.0</td>\n",
       "      <td>1724.0</td>\n",
       "      <td>1522.0</td>\n",
       "      <td>0.0</td>\n",
       "      <td>www.instagram.com/fender</td>\n",
       "      <td>Spam</td>\n",
       "    </tr>\n",
       "  </tbody>\n",
       "</table>\n",
       "</div>"
      ],
      "text/plain": [
       "      Id                                              Tweet  following  \\\n",
       "0  10091  It's the everything else that's complicated. #...        0.0   \n",
       "1  10172  Eren sent a glare towards Mikasa then nodded a...        0.0   \n",
       "2   7012  I posted a new photo to Facebook http://fb.me/...        0.0   \n",
       "3   3697  #jan Idiot Chelsea Handler Diagnoses Trump Wit...     3319.0   \n",
       "4  10740  Pedophile Anthony Weiner is TERRIFIED of Getti...     4840.0   \n",
       "\n",
       "   followers  actions  is_retweet                  location     Type  \n",
       "0    11500.0      NaN         0.0                   Chicago  Quality  \n",
       "1        0.0      NaN         0.0                       NaN  Quality  \n",
       "2        0.0      NaN         0.0             Scotland, U.K  Quality  \n",
       "3      611.0    294.0         0.0          FBBIGBANG&2NE1TH     Spam  \n",
       "4     1724.0   1522.0         0.0  www.instagram.com/fender     Spam  "
      ]
     },
     "execution_count": 284,
     "metadata": {},
     "output_type": "execute_result"
    }
   ],
   "source": [
    "data.head()"
   ]
  },
  {
   "cell_type": "code",
   "execution_count": 285,
   "metadata": {},
   "outputs": [
    {
     "data": {
      "text/plain": [
       "Quality    6153\n",
       "Spam       5815\n",
       "Name: Type, dtype: int64"
      ]
     },
     "execution_count": 285,
     "metadata": {},
     "output_type": "execute_result"
    }
   ],
   "source": [
    "data['Type'].value_counts()"
   ]
  },
  {
   "cell_type": "code",
   "execution_count": 286,
   "metadata": {},
   "outputs": [
    {
     "data": {
      "text/plain": [
       "Quality    0.514121\n",
       "Spam       0.485879\n",
       "Name: Type, dtype: float64"
      ]
     },
     "execution_count": 286,
     "metadata": {},
     "output_type": "execute_result"
    }
   ],
   "source": [
    "data['Type'].value_counts(normalize=True)"
   ]
  },
  {
   "cell_type": "code",
   "execution_count": 287,
   "metadata": {},
   "outputs": [
    {
     "data": {
      "text/html": [
       "<div>\n",
       "<style scoped>\n",
       "    .dataframe tbody tr th:only-of-type {\n",
       "        vertical-align: middle;\n",
       "    }\n",
       "\n",
       "    .dataframe tbody tr th {\n",
       "        vertical-align: top;\n",
       "    }\n",
       "\n",
       "    .dataframe thead th {\n",
       "        text-align: right;\n",
       "    }\n",
       "</style>\n",
       "<table border=\"1\" class=\"dataframe\">\n",
       "  <thead>\n",
       "    <tr style=\"text-align: right;\">\n",
       "      <th></th>\n",
       "      <th>Id</th>\n",
       "      <th>following</th>\n",
       "      <th>followers</th>\n",
       "      <th>actions</th>\n",
       "      <th>is_retweet</th>\n",
       "    </tr>\n",
       "  </thead>\n",
       "  <tbody>\n",
       "    <tr>\n",
       "      <th>count</th>\n",
       "      <td>11968.000000</td>\n",
       "      <td>1.182300e+04</td>\n",
       "      <td>1.195200e+04</td>\n",
       "      <td>9195.000000</td>\n",
       "      <td>11967.000000</td>\n",
       "    </tr>\n",
       "    <tr>\n",
       "      <th>mean</th>\n",
       "      <td>6292.273730</td>\n",
       "      <td>4.787110e+03</td>\n",
       "      <td>3.668763e+05</td>\n",
       "      <td>7314.563893</td>\n",
       "      <td>0.223949</td>\n",
       "    </tr>\n",
       "    <tr>\n",
       "      <th>std</th>\n",
       "      <td>3632.510153</td>\n",
       "      <td>3.158289e+04</td>\n",
       "      <td>3.973314e+06</td>\n",
       "      <td>16468.215132</td>\n",
       "      <td>0.416906</td>\n",
       "    </tr>\n",
       "    <tr>\n",
       "      <th>min</th>\n",
       "      <td>1.000000</td>\n",
       "      <td>0.000000e+00</td>\n",
       "      <td>0.000000e+00</td>\n",
       "      <td>0.000000</td>\n",
       "      <td>0.000000</td>\n",
       "    </tr>\n",
       "    <tr>\n",
       "      <th>25%</th>\n",
       "      <td>3150.750000</td>\n",
       "      <td>0.000000e+00</td>\n",
       "      <td>0.000000e+00</td>\n",
       "      <td>10.000000</td>\n",
       "      <td>0.000000</td>\n",
       "    </tr>\n",
       "    <tr>\n",
       "      <th>50%</th>\n",
       "      <td>6289.500000</td>\n",
       "      <td>5.100000e+01</td>\n",
       "      <td>8.415000e+02</td>\n",
       "      <td>1487.000000</td>\n",
       "      <td>0.000000</td>\n",
       "    </tr>\n",
       "    <tr>\n",
       "      <th>75%</th>\n",
       "      <td>9442.250000</td>\n",
       "      <td>3.635000e+03</td>\n",
       "      <td>1.328775e+04</td>\n",
       "      <td>7265.500000</td>\n",
       "      <td>0.000000</td>\n",
       "    </tr>\n",
       "    <tr>\n",
       "      <th>max</th>\n",
       "      <td>12598.000000</td>\n",
       "      <td>1.600000e+06</td>\n",
       "      <td>1.050000e+08</td>\n",
       "      <td>165865.000000</td>\n",
       "      <td>1.000000</td>\n",
       "    </tr>\n",
       "  </tbody>\n",
       "</table>\n",
       "</div>"
      ],
      "text/plain": [
       "                 Id     following     followers        actions    is_retweet\n",
       "count  11968.000000  1.182300e+04  1.195200e+04    9195.000000  11967.000000\n",
       "mean    6292.273730  4.787110e+03  3.668763e+05    7314.563893      0.223949\n",
       "std     3632.510153  3.158289e+04  3.973314e+06   16468.215132      0.416906\n",
       "min        1.000000  0.000000e+00  0.000000e+00       0.000000      0.000000\n",
       "25%     3150.750000  0.000000e+00  0.000000e+00      10.000000      0.000000\n",
       "50%     6289.500000  5.100000e+01  8.415000e+02    1487.000000      0.000000\n",
       "75%     9442.250000  3.635000e+03  1.328775e+04    7265.500000      0.000000\n",
       "max    12598.000000  1.600000e+06  1.050000e+08  165865.000000      1.000000"
      ]
     },
     "execution_count": 287,
     "metadata": {},
     "output_type": "execute_result"
    }
   ],
   "source": [
    "data.describe()"
   ]
  },
  {
   "cell_type": "code",
   "execution_count": 288,
   "metadata": {},
   "outputs": [
    {
     "data": {
      "text/html": [
       "<div>\n",
       "<style scoped>\n",
       "    .dataframe tbody tr th:only-of-type {\n",
       "        vertical-align: middle;\n",
       "    }\n",
       "\n",
       "    .dataframe tbody tr th {\n",
       "        vertical-align: top;\n",
       "    }\n",
       "\n",
       "    .dataframe thead th {\n",
       "        text-align: right;\n",
       "    }\n",
       "</style>\n",
       "<table border=\"1\" class=\"dataframe\">\n",
       "  <thead>\n",
       "    <tr style=\"text-align: right;\">\n",
       "      <th></th>\n",
       "      <th>Tweet</th>\n",
       "      <th>location</th>\n",
       "      <th>Type</th>\n",
       "    </tr>\n",
       "  </thead>\n",
       "  <tbody>\n",
       "    <tr>\n",
       "      <th>count</th>\n",
       "      <td>11968</td>\n",
       "      <td>10317</td>\n",
       "      <td>11968</td>\n",
       "    </tr>\n",
       "    <tr>\n",
       "      <th>unique</th>\n",
       "      <td>11787</td>\n",
       "      <td>2893</td>\n",
       "      <td>2</td>\n",
       "    </tr>\n",
       "    <tr>\n",
       "      <th>top</th>\n",
       "      <td>[HAPPY BIRTHDAY TAEYANG]\\noriginally posted by...</td>\n",
       "      <td>United States</td>\n",
       "      <td>Quality</td>\n",
       "    </tr>\n",
       "    <tr>\n",
       "      <th>freq</th>\n",
       "      <td>10</td>\n",
       "      <td>2521</td>\n",
       "      <td>6153</td>\n",
       "    </tr>\n",
       "  </tbody>\n",
       "</table>\n",
       "</div>"
      ],
      "text/plain": [
       "                                                    Tweet       location  \\\n",
       "count                                               11968          10317   \n",
       "unique                                              11787           2893   \n",
       "top     [HAPPY BIRTHDAY TAEYANG]\\noriginally posted by...  United States   \n",
       "freq                                                   10           2521   \n",
       "\n",
       "           Type  \n",
       "count     11968  \n",
       "unique        2  \n",
       "top     Quality  \n",
       "freq       6153  "
      ]
     },
     "execution_count": 288,
     "metadata": {},
     "output_type": "execute_result"
    }
   ],
   "source": [
    "data.describe(exclude=[np.number])"
   ]
  },
  {
   "cell_type": "code",
   "execution_count": 289,
   "metadata": {},
   "outputs": [],
   "source": [
    "Type = {'Spam': 1,'Quality': 0}\n",
    "data.Type = [Type[item] for item in data.Type]"
   ]
  },
  {
   "cell_type": "code",
   "execution_count": 290,
   "metadata": {},
   "outputs": [],
   "source": [
    "#Spliting the training data into training and validation\n",
    "X_train, X_valid, y_train, y_valid = train_test_split(data[\"Tweet\"], data[\"Type\"], test_size=0.2)"
   ]
  },
  {
   "cell_type": "code",
   "execution_count": 291,
   "metadata": {},
   "outputs": [
    {
     "name": "stdout",
     "output_type": "stream",
     "text": [
      "Training Data: 9574, Validation: 2394\n"
     ]
    }
   ],
   "source": [
    "print(\"Training Data: {}, Validation: {}\".format(len(X_train), len(X_valid)))"
   ]
  },
  {
   "cell_type": "code",
   "execution_count": 318,
   "metadata": {},
   "outputs": [],
   "source": [
    "#vectorizing data\n",
    "data_v = CountVectorizer(max_features=5000, binary=True, stop_words=\"english\")"
   ]
  },
  {
   "cell_type": "code",
   "execution_count": 319,
   "metadata": {},
   "outputs": [],
   "source": [
    "data_v.fit(X_train)\n",
    "X_train_v = data_v.transform(X_train)\n",
    "X_valid_v = data_v.transform(X_valid)"
   ]
  },
  {
   "cell_type": "code",
   "execution_count": 320,
   "metadata": {},
   "outputs": [
    {
     "data": {
      "text/plain": [
       "{'video': 44,\n",
       " 'watch': 46,\n",
       " 'http': 13,\n",
       " 'twitter': 43,\n",
       " 'com': 5,\n",
       " 'people': 28,\n",
       " 'right': 32,\n",
       " 'time': 40,\n",
       " 'day': 6,\n",
       " 'news': 26,\n",
       " 'bit': 2,\n",
       " 'ly': 21,\n",
       " 'want': 45,\n",
       " 'amp': 1,\n",
       " 'https': 14,\n",
       " 'status': 37,\n",
       " 'pic': 29,\n",
       " 'know': 16,\n",
       " 'like': 19,\n",
       " 'trump': 42,\n",
       " 'breaking': 4,\n",
       " 'thank': 38,\n",
       " 'new': 25,\n",
       " 'politics': 31,\n",
       " 'www': 48,\n",
       " 'man': 23,\n",
       " 'don': 7,\n",
       " 'got': 10,\n",
       " 'today': 41,\n",
       " 'just': 15,\n",
       " 'world': 47,\n",
       " 'black': 3,\n",
       " 'happy': 11,\n",
       " 'love': 20,\n",
       " 'rt': 33,\n",
       " 'obama': 27,\n",
       " 'says': 35,\n",
       " 'need': 24,\n",
       " 'year': 49,\n",
       " 'fb': 8,\n",
       " 'make': 22,\n",
       " 'life': 18,\n",
       " 'sports': 36,\n",
       " 'let': 17,\n",
       " 'say': 34,\n",
       " 'think': 39,\n",
       " '2016': 0,\n",
       " 'police': 30,\n",
       " 'hillary': 12,\n",
       " 'good': 9}"
      ]
     },
     "execution_count": 320,
     "metadata": {},
     "output_type": "execute_result"
    }
   ],
   "source": [
    "data_v.vocabulary_"
   ]
  },
  {
   "cell_type": "code",
   "execution_count": 317,
   "metadata": {},
   "outputs": [
    {
     "data": {
      "text/plain": [
       "[('idol', 2199),\n",
       " ('singer', 4020),\n",
       " ('successful', 4263),\n",
       " ('fan', 1632),\n",
       " ('sones', 4092),\n",
       " ('proud', 3462),\n",
       " ('fandom', 1634),\n",
       " ('ijwd1stwin', 2210),\n",
       " ('video', 4735),\n",
       " ('watch', 4809),\n",
       " ('goals', 1903),\n",
       " ('helped', 2061),\n",
       " ('jonathan', 2406),\n",
       " ('receive', 3586),\n",
       " ('http', 2161),\n",
       " ('youtu', 4983),\n",
       " ('everybody', 1558),\n",
       " ('follow', 1747),\n",
       " ('instagram', 2286),\n",
       " ('amazing', 290)]"
      ]
     },
     "execution_count": 317,
     "metadata": {},
     "output_type": "execute_result"
    }
   ],
   "source": [
    "list(islice(data_v.vocabulary_.items(), 20))"
   ]
  },
  {
   "cell_type": "code",
   "execution_count": null,
   "metadata": {},
   "outputs": [],
   "source": []
  },
  {
   "cell_type": "code",
   "execution_count": null,
   "metadata": {},
   "outputs": [],
   "source": []
  },
  {
   "cell_type": "code",
   "execution_count": 238,
   "metadata": {},
   "outputs": [
    {
     "name": "stderr",
     "output_type": "stream",
     "text": [
      "C:\\Users\\Koushik\\Anaconda3\\lib\\site-packages\\sklearn\\linear_model\\logistic.py:433: FutureWarning: Default solver will be changed to 'lbfgs' in 0.22. Specify a solver to silence this warning.\n",
      "  FutureWarning)\n"
     ]
    },
    {
     "data": {
      "text/plain": [
       "LogisticRegression(C=0.3, class_weight=None, dual=False, fit_intercept=True,\n",
       "          intercept_scaling=1, max_iter=100, multi_class='warn',\n",
       "          n_jobs=None, penalty='l2', random_state=None, solver='warn',\n",
       "          tol=0.0001, verbose=0, warm_start=False)"
      ]
     },
     "execution_count": 238,
     "metadata": {},
     "output_type": "execute_result"
    }
   ],
   "source": [
    "#logistic regression\n",
    "model= LogisticRegression(C=0.3)\n",
    "model.fit(X_train_v, y_train)"
   ]
  },
  {
   "cell_type": "code",
   "execution_count": 239,
   "metadata": {},
   "outputs": [
    {
     "name": "stdout",
     "output_type": "stream",
     "text": [
      "Training Acc: 0.9587\n",
      "Validation Acc: 0.9273\n"
     ]
    }
   ],
   "source": [
    "print(\"Training Acc: {:.4f}\".format(model.score(X_train_v, y_train)))\n",
    "print(\"Validation Acc: {:.4f}\".format(model.score(X_valid_v, y_valid)))"
   ]
  },
  {
   "cell_type": "code",
   "execution_count": 240,
   "metadata": {},
   "outputs": [
    {
     "data": {
      "text/html": [
       "<div>\n",
       "<style scoped>\n",
       "    .dataframe tbody tr th:only-of-type {\n",
       "        vertical-align: middle;\n",
       "    }\n",
       "\n",
       "    .dataframe tbody tr th {\n",
       "        vertical-align: top;\n",
       "    }\n",
       "\n",
       "    .dataframe thead th {\n",
       "        text-align: right;\n",
       "    }\n",
       "</style>\n",
       "<table border=\"1\" class=\"dataframe\">\n",
       "  <thead>\n",
       "    <tr style=\"text-align: right;\">\n",
       "      <th></th>\n",
       "      <th>Id</th>\n",
       "      <th>Tweet</th>\n",
       "      <th>following</th>\n",
       "      <th>followers</th>\n",
       "      <th>actions</th>\n",
       "      <th>is_retweet</th>\n",
       "      <th>location</th>\n",
       "    </tr>\n",
       "  </thead>\n",
       "  <tbody>\n",
       "    <tr>\n",
       "      <th>0</th>\n",
       "      <td>8536</td>\n",
       "      <td>Obama Criminal Enterprise Collapsing  https://...</td>\n",
       "      <td>10.0</td>\n",
       "      <td>4</td>\n",
       "      <td>1214.0</td>\n",
       "      <td>0</td>\n",
       "      <td>UP THRU DERE!</td>\n",
       "    </tr>\n",
       "    <tr>\n",
       "      <th>1</th>\n",
       "      <td>5214</td>\n",
       "      <td>I only learned to dream in sound  #love</td>\n",
       "      <td>63.0</td>\n",
       "      <td>55</td>\n",
       "      <td>508.0</td>\n",
       "      <td>0</td>\n",
       "      <td>Johannesburg, South Africa</td>\n",
       "    </tr>\n",
       "    <tr>\n",
       "      <th>2</th>\n",
       "      <td>7437</td>\n",
       "      <td>Cause I ain't trying to out here thinking you ...</td>\n",
       "      <td>0.0</td>\n",
       "      <td>0</td>\n",
       "      <td>0.0</td>\n",
       "      <td>0</td>\n",
       "      <td>NaN</td>\n",
       "    </tr>\n",
       "    <tr>\n",
       "      <th>3</th>\n",
       "      <td>10009</td>\n",
       "      <td>When will they get that it's about #Liberty ? ...</td>\n",
       "      <td>2310.0</td>\n",
       "      <td>2736</td>\n",
       "      <td>32188.0</td>\n",
       "      <td>1</td>\n",
       "      <td>Shreveport, LA</td>\n",
       "    </tr>\n",
       "    <tr>\n",
       "      <th>4</th>\n",
       "      <td>4672</td>\n",
       "      <td>GM UAW workers to receive profit-sharing up to...</td>\n",
       "      <td>696.0</td>\n",
       "      <td>176</td>\n",
       "      <td>713.0</td>\n",
       "      <td>1</td>\n",
       "      <td>EVERYWHERE</td>\n",
       "    </tr>\n",
       "  </tbody>\n",
       "</table>\n",
       "</div>"
      ],
      "text/plain": [
       "      Id                                              Tweet  following  \\\n",
       "0   8536  Obama Criminal Enterprise Collapsing  https://...       10.0   \n",
       "1   5214            I only learned to dream in sound  #love       63.0   \n",
       "2   7437  Cause I ain't trying to out here thinking you ...        0.0   \n",
       "3  10009  When will they get that it's about #Liberty ? ...     2310.0   \n",
       "4   4672  GM UAW workers to receive profit-sharing up to...      696.0   \n",
       "\n",
       "   followers  actions  is_retweet                    location  \n",
       "0          4   1214.0           0               UP THRU DERE!  \n",
       "1         55    508.0           0  Johannesburg, South Africa  \n",
       "2          0      0.0           0                         NaN  \n",
       "3       2736  32188.0           1              Shreveport, LA  \n",
       "4        176    713.0           1                  EVERYWHERE  "
      ]
     },
     "execution_count": 240,
     "metadata": {},
     "output_type": "execute_result"
    }
   ],
   "source": [
    "data_test=pd.read_csv(\"test.csv\")\n",
    "data_test.head()"
   ]
  },
  {
   "cell_type": "code",
   "execution_count": 241,
   "metadata": {},
   "outputs": [],
   "source": [
    "ytest = np.array(y_valid)# confusion matrix and classification report(precision, recall, F1-score)"
   ]
  },
  {
   "cell_type": "code",
   "execution_count": 242,
   "metadata": {},
   "outputs": [
    {
     "name": "stdout",
     "output_type": "stream",
     "text": [
      "              precision    recall  f1-score   support\n",
      "\n",
      "           0       0.90      0.97      0.93      1221\n",
      "           1       0.96      0.89      0.92      1173\n",
      "\n",
      "   micro avg       0.93      0.93      0.93      2394\n",
      "   macro avg       0.93      0.93      0.93      2394\n",
      "weighted avg       0.93      0.93      0.93      2394\n",
      "\n",
      "[[1181   40]\n",
      " [ 134 1039]]\n"
     ]
    }
   ],
   "source": [
    "print(classification_report(ytest, model.predict(X_valid_v)))\n",
    "print(confusion_matrix(ytest, model.predict(X_valid_v)))"
   ]
  },
  {
   "cell_type": "code",
   "execution_count": 243,
   "metadata": {},
   "outputs": [],
   "source": [
    "predictions_NN_prob = model.predict(X_valid_v)"
   ]
  },
  {
   "cell_type": "code",
   "execution_count": 244,
   "metadata": {},
   "outputs": [
    {
     "data": {
      "image/png": "[encoded data removed]",
      "text/plain": [
       "<Figure size 432x288 with 1 Axes>"
      ]
     },
     "metadata": {
      "needs_background": "light"
     },
     "output_type": "display_data"
    }
   ],
   "source": [
    "false_positive_rate, recall, thresholds = roc_curve(y_valid, predictions_NN_prob)\n",
    "roc_auc1 = auc(false_positive_rate, recall)\n",
    "plt.figure()\n",
    "plt.title('Logistic Regression, ROC Curve')\n",
    "plt.plot(false_positive_rate, recall, 'b', label = 'AUC = %0.3f' %roc_auc1)\n",
    "plt.legend(loc='lower right')\n",
    "plt.plot([0,1], [0,1], 'r--')\n",
    "plt.xlim([0.0,1.0])\n",
    "plt.ylim([0.0,1.0])\n",
    "plt.ylabel('Recall')\n",
    "plt.xlabel('Fall-out')\n",
    "plt.show()\n"
   ]
  },
  {
   "cell_type": "code",
   "execution_count": 245,
   "metadata": {},
   "outputs": [
    {
     "data": {
      "text/plain": [
       "RandomForestClassifier(bootstrap=True, class_weight=None, criterion='gini',\n",
       "            max_depth=None, max_features='auto', max_leaf_nodes=None,\n",
       "            min_impurity_decrease=0.0, min_impurity_split=None,\n",
       "            min_samples_leaf=3, min_samples_split=2,\n",
       "            min_weight_fraction_leaf=0.0, n_estimators=25, n_jobs=-1,\n",
       "            oob_score=False, random_state=None, verbose=0,\n",
       "            warm_start=False)"
      ]
     },
     "execution_count": 245,
     "metadata": {},
     "output_type": "execute_result"
    }
   ],
   "source": [
    "#Gradient Boosted Trees\n",
    "model_gb = RandomForestClassifier(min_samples_leaf=3, n_estimators=25, n_jobs=-1)\n",
    "model_gb.fit(X_train_v, y_train)"
   ]
  },
  {
   "cell_type": "code",
   "execution_count": 246,
   "metadata": {},
   "outputs": [
    {
     "name": "stdout",
     "output_type": "stream",
     "text": [
      "Training Accuracy: 0.943\n",
      "Validation Accuracy: 0.924\n"
     ]
    }
   ],
   "source": [
    "print(\"Training Accuracy: {:.3f}\".format(model_gb.score(X_train_v, y_train)))\n",
    "print(\"Validation Accuracy: {:.3f}\".format(model_gb.score(X_valid_v, y_valid)))"
   ]
  },
  {
   "cell_type": "code",
   "execution_count": 247,
   "metadata": {},
   "outputs": [
    {
     "name": "stdout",
     "output_type": "stream",
     "text": [
      "              precision    recall  f1-score   support\n",
      "\n",
      "           0       0.89      0.97      0.93      1221\n",
      "           1       0.97      0.87      0.92      1173\n",
      "\n",
      "   micro avg       0.92      0.92      0.92      2394\n",
      "   macro avg       0.93      0.92      0.92      2394\n",
      "weighted avg       0.93      0.92      0.92      2394\n",
      "\n",
      "[[1188   33]\n",
      " [ 149 1024]]\n"
     ]
    }
   ],
   "source": [
    "print(classification_report(ytest, model_gb.predict(X_valid_v)))\n",
    "print(confusion_matrix(ytest, model_gb.predict(X_valid_v)))"
   ]
  },
  {
   "cell_type": "code",
   "execution_count": 248,
   "metadata": {},
   "outputs": [],
   "source": [
    "predictions_NN_prob1 = model_gb.predict(X_valid_v)"
   ]
  },
  {
   "cell_type": "code",
   "execution_count": 249,
   "metadata": {},
   "outputs": [
    {
     "data": {
      "image/png": "[encoded data removed]",
      "text/plain": [
       "<Figure size 432x288 with 1 Axes>"
      ]
     },
     "metadata": {
      "needs_background": "light"
     },
     "output_type": "display_data"
    }
   ],
   "source": [
    "false_positive_rate, recall, thresholds = roc_curve(y_valid, predictions_NN_prob1)\n",
    "roc_auc2 = auc(false_positive_rate, recall)\n",
    "plt.figure()\n",
    "plt.title('Gradient Boosted Trees, ROC Curve')\n",
    "plt.plot(false_positive_rate, recall, 'b', label = 'AUC = %0.3f' %roc_auc2)\n",
    "plt.legend(loc='lower right')\n",
    "plt.plot([0,1], [0,1], 'r--')\n",
    "plt.xlim([0.0,1.0])\n",
    "plt.ylim([0.0,1.0])\n",
    "plt.ylabel('Recall')\n",
    "plt.xlabel('Fall-out')\n",
    "plt.show()"
   ]
  },
  {
   "cell_type": "code",
   "execution_count": null,
   "metadata": {},
   "outputs": [],
   "source": []
  },
  {
   "cell_type": "code",
   "execution_count": 250,
   "metadata": {},
   "outputs": [
    {
     "data": {
      "text/plain": [
       "RandomForestClassifier(bootstrap=True, class_weight=None, criterion='gini',\n",
       "            max_depth=None, max_features='auto', max_leaf_nodes=None,\n",
       "            min_impurity_decrease=0.0, min_impurity_split=None,\n",
       "            min_samples_leaf=3, min_samples_split=2,\n",
       "            min_weight_fraction_leaf=0.0, n_estimators=25, n_jobs=-1,\n",
       "            oob_score=False, random_state=None, verbose=0,\n",
       "            warm_start=False)"
      ]
     },
     "execution_count": 250,
     "metadata": {},
     "output_type": "execute_result"
    }
   ],
   "source": [
    "#Random Forest\n",
    "model_rm = RandomForestClassifier(min_samples_leaf=3, n_estimators=25, n_jobs=-1)\n",
    "model_rm.fit(X_train_v, y_train)"
   ]
  },
  {
   "cell_type": "code",
   "execution_count": 251,
   "metadata": {},
   "outputs": [
    {
     "name": "stdout",
     "output_type": "stream",
     "text": [
      "Training Accuracy: 0.940\n",
      "Validation Accuracy: 0.924\n"
     ]
    }
   ],
   "source": [
    "# Training Accuracy\n",
    "print(\"Training Accuracy: {:.3f}\".format(model_rm.score(X_train_v, y_train)))\n",
    "print(\"Validation Accuracy: {:.3f}\".format(model_rm.score(X_valid_v, y_valid)))"
   ]
  },
  {
   "cell_type": "code",
   "execution_count": 252,
   "metadata": {},
   "outputs": [
    {
     "name": "stdout",
     "output_type": "stream",
     "text": [
      "              precision    recall  f1-score   support\n",
      "\n",
      "           0       0.89      0.97      0.93      1221\n",
      "           1       0.97      0.87      0.92      1173\n",
      "\n",
      "   micro avg       0.92      0.92      0.92      2394\n",
      "   macro avg       0.93      0.92      0.92      2394\n",
      "weighted avg       0.93      0.92      0.92      2394\n",
      "\n",
      "[[1189   32]\n",
      " [ 149 1024]]\n"
     ]
    }
   ],
   "source": [
    "print(classification_report(ytest, model_rm.predict(X_valid_v)))\n",
    "print(confusion_matrix(ytest, model_rm.predict(X_valid_v)))"
   ]
  },
  {
   "cell_type": "code",
   "execution_count": 253,
   "metadata": {},
   "outputs": [],
   "source": [
    "predictions_NN_prob2 = model_rm.predict(X_valid_v)"
   ]
  },
  {
   "cell_type": "code",
   "execution_count": 254,
   "metadata": {},
   "outputs": [
    {
     "data": {
      "image/png": "[encoded data removed]",
      "text/plain": [
       "<Figure size 432x288 with 1 Axes>"
      ]
     },
     "metadata": {
      "needs_background": "light"
     },
     "output_type": "display_data"
    }
   ],
   "source": [
    "false_positive_rate, recall, thresholds = roc_curve(y_valid, predictions_NN_prob2)\n",
    "roc_auc3 = auc(false_positive_rate, recall)\n",
    "plt.figure()\n",
    "plt.title('Random Forest, ROC Curve')\n",
    "plt.plot(false_positive_rate, recall, 'b', label = 'AUC = %0.3f' %roc_auc3)\n",
    "plt.legend(loc='lower right')\n",
    "plt.plot([0,1], [0,1], 'r--')\n",
    "plt.xlim([0.0,1.0])\n",
    "plt.ylim([0.0,1.0])\n",
    "plt.ylabel('Recall')\n",
    "plt.xlabel('Fall-out')\n",
    "plt.show()"
   ]
  },
  {
   "cell_type": "code",
   "execution_count": null,
   "metadata": {},
   "outputs": [],
   "source": []
  },
  {
   "cell_type": "code",
   "execution_count": 255,
   "metadata": {},
   "outputs": [],
   "source": [
    "#support vector machine\n",
    "scaler = MaxAbsScaler()"
   ]
  },
  {
   "cell_type": "code",
   "execution_count": 256,
   "metadata": {},
   "outputs": [],
   "source": [
    "X_train_scaled = scaler.fit_transform(X_train_v)\n",
    "X_valid_scaled = scaler.fit_transform(X_valid_v)"
   ]
  },
  {
   "cell_type": "code",
   "execution_count": 257,
   "metadata": {},
   "outputs": [
    {
     "name": "stderr",
     "output_type": "stream",
     "text": [
      "C:\\Users\\Koushik\\Anaconda3\\lib\\site-packages\\sklearn\\svm\\base.py:196: FutureWarning: The default value of gamma will change from 'auto' to 'scale' in version 0.22 to account better for unscaled features. Set gamma explicitly to 'auto' or 'scale' to avoid this warning.\n",
      "  \"avoid this warning.\", FutureWarning)\n"
     ]
    },
    {
     "name": "stdout",
     "output_type": "stream",
     "text": [
      "Accuracy on training set: 0.980\n",
      "Accuracy on validation set: 0.934\n"
     ]
    }
   ],
   "source": [
    "svc = SVC(C=1000)\n",
    "svc.fit(X_train_scaled, y_train)\n",
    "\n",
    "print(\"Accuracy on training set: {:.3f}\".format(\n",
    "    svc.score(X_train_scaled, y_train)))\n",
    "print(\"Accuracy on validation set: {:.3f}\".format(svc.score(X_valid_scaled, y_valid)))"
   ]
  },
  {
   "cell_type": "code",
   "execution_count": 258,
   "metadata": {},
   "outputs": [
    {
     "name": "stdout",
     "output_type": "stream",
     "text": [
      "              precision    recall  f1-score   support\n",
      "\n",
      "           0       0.91      0.97      0.94      1221\n",
      "           1       0.96      0.90      0.93      1173\n",
      "\n",
      "   micro avg       0.93      0.93      0.93      2394\n",
      "   macro avg       0.94      0.93      0.93      2394\n",
      "weighted avg       0.94      0.93      0.93      2394\n",
      "\n",
      "[[1182   39]\n",
      " [ 118 1055]]\n"
     ]
    }
   ],
   "source": [
    "print(classification_report(ytest, svc.predict(X_valid_v)))\n",
    "print(confusion_matrix(ytest, svc.predict(X_valid_v)))"
   ]
  },
  {
   "cell_type": "code",
   "execution_count": 259,
   "metadata": {},
   "outputs": [],
   "source": [
    "predictions_NN_prob3 = svc.predict(X_valid_v)"
   ]
  },
  {
   "cell_type": "code",
   "execution_count": 260,
   "metadata": {},
   "outputs": [
    {
     "data": {
      "image/png": "[encoded data removed]",
      "text/plain": [
       "<Figure size 432x288 with 1 Axes>"
      ]
     },
     "metadata": {
      "needs_background": "light"
     },
     "output_type": "display_data"
    }
   ],
   "source": [
    "false_positive_rate, recall, thresholds = roc_curve(y_valid, predictions_NN_prob3)\n",
    "roc_auc4 = auc(false_positive_rate, recall)\n",
    "plt.figure()\n",
    "plt.title('Support vector machine, ROC Curve')\n",
    "plt.plot(false_positive_rate, recall, 'b', label = 'AUC = %0.3f' %roc_auc4)\n",
    "plt.legend(loc='lower right')\n",
    "plt.plot([0,1], [0,1], 'r--')\n",
    "plt.xlim([0.0,1.0])\n",
    "plt.ylim([0.0,1.0])\n",
    "plt.ylabel('Recall')\n",
    "plt.xlabel('Fall-out')\n",
    "plt.show()"
   ]
  },
  {
   "cell_type": "code",
   "execution_count": null,
   "metadata": {},
   "outputs": [],
   "source": []
  },
  {
   "cell_type": "code",
   "execution_count": 261,
   "metadata": {},
   "outputs": [
    {
     "name": "stdout",
     "output_type": "stream",
     "text": [
      "Accuracy of K-NN classifier on training set: 0.88\n",
      "Accuracy of K-NN classifier on validation set: 0.81\n"
     ]
    }
   ],
   "source": [
    "#k-Nearest Neighbors\n",
    "knn = KNeighborsClassifier(n_neighbors=3)\n",
    "knn.fit(X_train_v, y_train)\n",
    "\n",
    "print('Accuracy of K-NN classifier on training set: {:.2f}'.format(knn.score(X_train_v, y_train)))\n",
    "print('Accuracy of K-NN classifier on validation set: {:.2f}'.format(knn.score(X_valid_v, y_valid)))"
   ]
  },
  {
   "cell_type": "code",
   "execution_count": 262,
   "metadata": {},
   "outputs": [
    {
     "name": "stdout",
     "output_type": "stream",
     "text": [
      "              precision    recall  f1-score   support\n",
      "\n",
      "           0       0.75      0.94      0.83      1221\n",
      "           1       0.92      0.67      0.77      1173\n",
      "\n",
      "   micro avg       0.81      0.81      0.81      2394\n",
      "   macro avg       0.83      0.81      0.80      2394\n",
      "weighted avg       0.83      0.81      0.81      2394\n",
      "\n",
      "[[1150   71]\n",
      " [ 386  787]]\n"
     ]
    }
   ],
   "source": [
    "print(classification_report(ytest, knn.predict(X_valid_v)))\n",
    "print(confusion_matrix(ytest, knn.predict(X_valid_v)))"
   ]
  },
  {
   "cell_type": "code",
   "execution_count": 263,
   "metadata": {},
   "outputs": [],
   "source": [
    "predictions_NN_prob4 = knn.predict(X_valid_v)"
   ]
  },
  {
   "cell_type": "code",
   "execution_count": 264,
   "metadata": {},
   "outputs": [
    {
     "data": {
      "image/png": "[encoded data removed]",
      "text/plain": [
       "<Figure size 432x288 with 1 Axes>"
      ]
     },
     "metadata": {
      "needs_background": "light"
     },
     "output_type": "display_data"
    }
   ],
   "source": [
    "false_positive_rate, recall, thresholds = roc_curve(y_valid, predictions_NN_prob4)\n",
    "roc_auc5 = auc(false_positive_rate, recall)\n",
    "plt.figure()\n",
    "plt.title('k-Nearest Neighbors, ROC Curve')\n",
    "plt.plot(false_positive_rate, recall, 'b', label = 'AUC = %0.3f' %roc_auc5)\n",
    "plt.legend(loc='lower right')\n",
    "plt.plot([0,1], [0,1], 'r--')\n",
    "plt.xlim([0.0,1.0])\n",
    "plt.ylim([0.0,1.0])\n",
    "plt.ylabel('Recall')\n",
    "plt.xlabel('Fall-out')\n",
    "plt.show()"
   ]
  },
  {
   "cell_type": "code",
   "execution_count": null,
   "metadata": {},
   "outputs": [],
   "source": []
  },
  {
   "cell_type": "code",
   "execution_count": 265,
   "metadata": {
    "scrolled": true
   },
   "outputs": [
    {
     "name": "stdout",
     "output_type": "stream",
     "text": [
      "\n"
     ]
    },
    {
     "data": {
      "text/markdown": [
       "**k-Nearest Neighbors**"
      ],
      "text/plain": [
       "<IPython.core.display.Markdown object>"
      ]
     },
     "metadata": {},
     "output_type": "display_data"
    },
    {
     "name": "stdout",
     "output_type": "stream",
     "text": [
      "Training Acc: 0.88\n",
      "Validation Acc: 0.81\n",
      "AUC Value: 0.806\n",
      "\n",
      "              precision    recall  f1-score   support\n",
      "\n",
      "           0       0.75      0.94      0.83      1221\n",
      "           1       0.92      0.67      0.77      1173\n",
      "\n",
      "   micro avg       0.81      0.81      0.81      2394\n",
      "   macro avg       0.83      0.81      0.80      2394\n",
      "weighted avg       0.83      0.81      0.81      2394\n",
      "\n",
      "\n"
     ]
    },
    {
     "data": {
      "text/markdown": [
       "**Logistic Regression**"
      ],
      "text/plain": [
       "<IPython.core.display.Markdown object>"
      ]
     },
     "metadata": {},
     "output_type": "display_data"
    },
    {
     "name": "stdout",
     "output_type": "stream",
     "text": [
      "Training Acc: 0.9587\n",
      "Validation Acc: 0.9273\n",
      "AUC Value: 0.927\n",
      "\n",
      "              precision    recall  f1-score   support\n",
      "\n",
      "           0       0.90      0.97      0.93      1221\n",
      "           1       0.96      0.89      0.92      1173\n",
      "\n",
      "   micro avg       0.93      0.93      0.93      2394\n",
      "   macro avg       0.93      0.93      0.93      2394\n",
      "weighted avg       0.93      0.93      0.93      2394\n",
      "\n",
      "\n"
     ]
    },
    {
     "data": {
      "text/markdown": [
       "**Random Forest**"
      ],
      "text/plain": [
       "<IPython.core.display.Markdown object>"
      ]
     },
     "metadata": {},
     "output_type": "display_data"
    },
    {
     "name": "stdout",
     "output_type": "stream",
     "text": [
      "Training Acc: 0.940\n",
      "Validation Acc: 0.924\n",
      "AUC Value: 0.923\n",
      "\n",
      "              precision    recall  f1-score   support\n",
      "\n",
      "           0       0.89      0.97      0.93      1221\n",
      "           1       0.97      0.87      0.92      1173\n",
      "\n",
      "   micro avg       0.92      0.92      0.92      2394\n",
      "   macro avg       0.93      0.92      0.92      2394\n",
      "weighted avg       0.93      0.92      0.92      2394\n",
      "\n",
      "\n"
     ]
    },
    {
     "data": {
      "text/markdown": [
       "**Gradient Boosting**"
      ],
      "text/plain": [
       "<IPython.core.display.Markdown object>"
      ]
     },
     "metadata": {},
     "output_type": "display_data"
    },
    {
     "name": "stdout",
     "output_type": "stream",
     "text": [
      "Training Acc: 0.943\n",
      "Validation Acc: 0.924\n",
      "AUC Value: 0.923\n",
      "\n",
      "              precision    recall  f1-score   support\n",
      "\n",
      "           0       0.89      0.97      0.93      1221\n",
      "           1       0.97      0.87      0.92      1173\n",
      "\n",
      "   micro avg       0.92      0.92      0.92      2394\n",
      "   macro avg       0.93      0.92      0.92      2394\n",
      "weighted avg       0.93      0.92      0.92      2394\n",
      "\n",
      "\n"
     ]
    },
    {
     "data": {
      "text/markdown": [
       "**Support Vector Machine**"
      ],
      "text/plain": [
       "<IPython.core.display.Markdown object>"
      ]
     },
     "metadata": {},
     "output_type": "display_data"
    },
    {
     "name": "stdout",
     "output_type": "stream",
     "text": [
      "Training Acc: 0.980\n",
      "Validation Acc: 0.934\n",
      "AUC Value: 0.934\n",
      "\n",
      "              precision    recall  f1-score   support\n",
      "\n",
      "           0       0.91      0.97      0.94      1221\n",
      "           1       0.96      0.90      0.93      1173\n",
      "\n",
      "   micro avg       0.93      0.93      0.93      2394\n",
      "   macro avg       0.94      0.93      0.93      2394\n",
      "weighted avg       0.94      0.93      0.93      2394\n",
      "\n"
     ]
    }
   ],
   "source": [
    "from IPython.display import Markdown, display\n",
    "def printmd(string):\n",
    "    display(Markdown(string))\n",
    "\n",
    "print('')\n",
    "#k-Nearest Neighbors\n",
    "printmd(\"**k-Nearest Neighbors**\")\n",
    "print('Training Acc: {:.2f}'.format(knn.score(X_train_v, y_train)))\n",
    "print('Validation Acc: {:.2f}'.format(knn.score(X_valid_v, y_valid)))\n",
    "print(\"AUC Value: {:.3f}\".format(roc_auc5))\n",
    "print('')\n",
    "print(classification_report(ytest, knn.predict(X_valid_v)))\n",
    "\n",
    "\n",
    "print('')\n",
    "#Logistic Regression\n",
    "printmd(\"**Logistic Regression**\")\n",
    "print(\"Training Acc: {:.4f}\".format(model.score(X_train_v, y_train)))\n",
    "print(\"Validation Acc: {:.4f}\".format(model.score(X_valid_v, y_valid)))\n",
    "print(\"AUC Value: {:.3f}\".format(roc_auc1))\n",
    "print('')\n",
    "print(classification_report(ytest, model.predict(X_valid_v)))\n",
    "\n",
    "\n",
    "print('')\n",
    "#Random Forest\n",
    "printmd(\"**Random Forest**\")\n",
    "print(\"Training Acc: {:.3f}\".format(model_rm.score(X_train_v, y_train)))\n",
    "print(\"Validation Acc: {:.3f}\".format(model_rm.score(X_valid_v, y_valid)))\n",
    "print(\"AUC Value: {:.3f}\".format(roc_auc3))\n",
    "print('')\n",
    "print(classification_report(ytest, model_rm.predict(X_valid_v)))\n",
    "\n",
    "print('')\n",
    "#Gradient Boosting\n",
    "printmd(\"**Gradient Boosting**\")\n",
    "print(\"Training Acc: {:.3f}\".format(model_gb.score(X_train_v, y_train)))\n",
    "print(\"Validation Acc: {:.3f}\".format(model_gb.score(X_valid_v, y_valid)))\n",
    "print(\"AUC Value: {:.3f}\".format(roc_auc2))\n",
    "print('')\n",
    "print(classification_report(ytest, model_gb.predict(X_valid_v)))\n",
    "\n",
    "print('')\n",
    "#Support Vector Machine\n",
    "printmd(\"**Support Vector Machine**\")\n",
    "print(\"Training Acc: {:.3f}\".format(\n",
    "    svc.score(X_train_scaled, y_train)))\n",
    "print(\"Validation Acc: {:.3f}\".format(svc.score(X_valid_scaled, y_valid)))\n",
    "print(\"AUC Value: {:.3f}\".format(roc_auc4))\n",
    "print('')\n",
    "print(classification_report(ytest, svc.predict(X_valid_v)))"
   ]
  },
  {
   "cell_type": "code",
   "execution_count": null,
   "metadata": {},
   "outputs": [],
   "source": []
  }
 ],
 "metadata": {
  "kernelspec": {
   "display_name": "Python 3",
   "language": "python",
   "name": "python3"
  },
  "language_info": {
   "codemirror_mode": {
    "name": "ipython",
    "version": 3
   },
   "file_extension": ".py",
   "mimetype": "text/x-python",
   "name": "python",
   "nbconvert_exporter": "python",
   "pygments_lexer": "ipython3",
   "version": "3.7.3"
  }
 },
 "nbformat": 4,
 "nbformat_minor": 2
}
